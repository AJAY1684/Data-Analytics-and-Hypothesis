{
 "cells": [
  {
   "cell_type": "code",
   "execution_count": 1,
   "metadata": {},
   "outputs": [],
   "source": [
    "import pandas as pd\n",
    "import numpy as np\n",
    "import scipy.stats as st"
   ]
  },
  {
   "cell_type": "code",
   "execution_count": 2,
   "metadata": {},
   "outputs": [
    {
     "data": {
      "text/plain": [
       "Index(['Year_Birth', 'Education', 'Marital_Status', 'Income', 'Kidhome',\n",
       "       'Teenhome', 'Dt_Customer', 'Recency', 'MntWines', 'MntFruits',\n",
       "       'MntMeatProducts', 'MntFishProducts', 'MntSweetProducts',\n",
       "       'MntGoldProds', 'NumDealsPurchases', 'NumWebPurchases',\n",
       "       'NumCatalogPurchases', 'NumStorePurchases', 'NumWebVisitsMonth',\n",
       "       'AcceptedCmp3', 'AcceptedCmp4', 'AcceptedCmp5', 'AcceptedCmp1',\n",
       "       'AcceptedCmp2', 'Response', 'Complain', 'Country', 'Age'],\n",
       "      dtype='object')"
      ]
     },
     "execution_count": 2,
     "metadata": {},
     "output_type": "execute_result"
    }
   ],
   "source": [
    "df = pd.read_csv(\"Marketing_Data-1.csv\",index_col=0)\n",
    "my_data = df\n",
    "lst =['Year_Birth', 'Education', 'Marital_Status', 'Income']\n",
    "df.columns"
   ]
  },
  {
   "cell_type": "code",
   "execution_count": 3,
   "metadata": {},
   "outputs": [],
   "source": [
    "# Adding columns Purchases which contain total purchases from company\n",
    "df1 = my_data\n",
    "df1[\"Purchases\"] = df1[\"NumDealsPurchases\"]+df1['NumWebPurchases']+df1['NumCatalogPurchases']+df1['NumStorePurchases']\n",
    "df1[\"MntTotal\"]=df1['MntWines']+df1['MntFruits']+df1['MntMeatProducts']+df1['MntFishProducts']+df1['MntSweetProducts']+df1['MntGoldProds']"
   ]
  },
  {
   "cell_type": "markdown",
   "metadata": {},
   "source": [
    "# Runs test"
   ]
  },
  {
   "cell_type": "markdown",
   "metadata": {},
   "source": [
    "H0 : The data is produced in a random manner based on Income\n",
    "\n",
    "H1 : The data is not produced in a random manner based on Income\n"
   ]
  },
  {
   "cell_type": "code",
   "execution_count": 4,
   "metadata": {
    "scrolled": false
   },
   "outputs": [
    {
     "name": "stdout",
     "output_type": "stream",
     "text": [
      "Z- value =  -5.853544528527859\n",
      "P- value =  4.8120533902742105e-09\n",
      "----> A z-score of less than 0 represents an element less than the median.\n"
     ]
    }
   ],
   "source": [
    "from statsmodels.sandbox.stats.runs import runstest_1samp \n",
    "# Data = \"M_Data.csv\"\n",
    "\n",
    "data = df[\"Income\"]\n",
    "\n",
    "#Perform Runs test\n",
    "z,p = runstest_1samp(data,cutoff='median', correction=False)\n",
    "print(\"Z- value = \",z)\n",
    "print(\"P- value = \",p)\n",
    "if z<0:\n",
    "    print(\"----> A z-score of less than 0 represents an element less than the median.\")\n",
    "alpha = 0.05\n",
    "z_alpha = st.norm.ppf(1-alpha)\n",
    "print(\"Z-table value = \",z_alpha)\n",
    "if z<0:\n",
    "    z_alpha = -z_alpha\n",
    "if z<z_alpha:\n",
    "    print(\"----> Z stat value doesnot fall in rejection region Z-value < Z - table value\\n----> Reject H0\")\n",
    "elif z>z_alpha:\n",
    "     print(\"----> Z stat value fall in rejection region Z-value > Z - table value\\n----> Fail to Reject H0\")"
   ]
  },
  {
   "cell_type": "raw",
   "metadata": {},
   "source": [
    "# Conclusion :\n",
    "----> As elements n>=30 So we are using Z -test for comparison\n",
    "\n",
    "----> A z-score of less than 0 represents an element less than the median.\n",
    "\n",
    "----> Z stat value doesnot fall in rejection region  Z-value < Z - table value\n",
    "\n",
    "----> Reject H0\n",
    "\n",
    "The data \"M_Data\" is not produced randomly based on Income."
   ]
  },
  {
   "cell_type": "markdown",
   "metadata": {},
   "source": [
    "--------------------------------------------------------------------------------------"
   ]
  },
  {
   "cell_type": "markdown",
   "metadata": {},
   "source": [
    "# Sign Test One Sample"
   ]
  },
  {
   "cell_type": "markdown",
   "metadata": {},
   "source": [
    "Number of median purchases assumed by company is 15 \n",
    "\n",
    "H0 : median = 15\n",
    "\n",
    "H1 : Median != 15              alpha =0.05\n",
    "\n",
    "Condition: Sample size< 26              Critical value for two tailed test at n=25 is 6"
   ]
  },
  {
   "cell_type": "code",
   "execution_count": 6,
   "metadata": {
    "scrolled": false
   },
   "outputs": [
    {
     "name": "stdout",
     "output_type": "stream",
     "text": [
      "      Year_Birth   Income Country  Age  Purchases sign\n",
      "S.No                                                  \n",
      "118         1949  81698.0      SP   72         25    +\n",
      "1575        1971  74290.0      SP   50         32    +\n",
      "1352        1971  71969.0     IND   50         19    +\n",
      "1415        1952  55951.0      SA   69         23    +\n",
      "358         1962  42769.0      CA   59          8    -\n",
      "472         1945  70356.0      CA   76         27    +\n",
      "2047        1959  71232.0      SP   62         25    +\n",
      "488         1954  50002.0      SA   67         19    +\n",
      "1913        1970  44159.0      SA   51         15    0\n",
      "1815        1973  71128.0      US   48         27    +\n",
      "359         1982  58582.0      SP   39         22    +\n",
      "4           1989  21474.0      SP   32          8    -\n",
      "318         1992  15253.0      CA   29          6    -\n",
      "574         1944  80589.0     AUS   77         21    +\n",
      "1855        1981  36038.0      SP   40          8    -\n",
      "1691        1943  51381.5     AUS   78         22    +\n",
      "1867        1981  24336.0      SP   40          4    -\n",
      "850         1958  46692.0      SP   63         15    0\n",
      "1774        1977  41443.0      SA   44         20    +\n",
      "599         1975  42160.0      SP   46         11    -\n",
      "2063        1972  42618.0      SP   49         11    -\n",
      "1739        1970  58710.0     AUS   51         31    +\n",
      "682         1959  65031.0     GER   62         30    +\n",
      "1988        1974  45837.0      SP   47         18    +\n",
      "740         1958  68281.0      SP   63         25    +\n",
      " signs =  16 \t- signs =  7\n",
      "N value is =  23\n",
      "Find Critical Value for N= 23  in table\n",
      "\n",
      "Give critical value as Input\n",
      "6\n",
      "Test Value is =  7\n",
      " Test Value is greater than critical Value.\n",
      "7 > 6 \n",
      "--->Failed to reject Null Hypothesis\n",
      " Median is equal to  15\n"
     ]
    }
   ],
   "source": [
    "Sign_Sample = df1.sample(n=25,replace=False)\n",
    "colums = ['Year_Birth','Income','Country', 'Age','Purchases']\n",
    "\n",
    "def sign_test(lst,median):\n",
    "    n = len(lst)\n",
    "    nc=0\n",
    "    pc=0\n",
    "    sign = []\n",
    "    for i in range(0,n):\n",
    "        if lst[i]-median>0:\n",
    "            pc=pc+1\n",
    "            sign.append(\"+\")\n",
    "        elif lst[i]-median<0:\n",
    "            nc=nc+1\n",
    "            sign.append(\"-\")\n",
    "        elif lst[i]-median == 0:\n",
    "            nc=nc\n",
    "            pc=pc\n",
    "            sign.append(\"0\")\n",
    "    return nc,pc,sign;\n",
    "    \n",
    "if __name__ == \"__main__\":\n",
    "    median = 15\n",
    "    lst = Sign_Sample[\"Purchases\"].tolist()\n",
    "    nc,pc,sign = sign_test(lst,median)\n",
    "    \n",
    "    Sign_Sample['sign']=sign\n",
    "    colums.append('sign')\n",
    "    print(Sign_Sample[colums])\n",
    "    count =nc + pc\n",
    "    x = min(nc,pc)\n",
    "    print(\"\"+\" signs = \",pc,\"\\t- signs = \",nc)\n",
    "    print(\"N value is = \",count)\n",
    "    print(\"Find Critical Value for N=\",count,\" in table\\n\")\n",
    "    print(\"Give critical value as Input\")\n",
    "    critical_value = int(input())\n",
    "    print(\"Test Value is = \",x)\n",
    "    if(x<=critical_value):\n",
    "        print(\" Test Value is less than critical Value.\")\n",
    "        print(x,\"<=\",critical_value,\"\\n--->Null Hypothesis is Rejected\")\n",
    "        print(\" Median is not equal to \",median)\n",
    "    if(x>critical_value):\n",
    "        print(\" Test Value is greater than critical Value.\")\n",
    "        print(x,\">\",critical_value,\"\\n--->Failed to reject Null Hypothesis\")\n",
    "        print(\" Median is equal to \",median)\n",
    "\n",
    "    \n"
   ]
  },
  {
   "cell_type": "markdown",
   "metadata": {},
   "source": [
    "# # Mann Whitney U Test"
   ]
  },
  {
   "cell_type": "markdown",
   "metadata": {},
   "source": [
    "Checking Whether there is differnece between amount spent on products among singles and married\n",
    "\n",
    "H0: There is no difference on amount spent on purchasing products between singles and Married\n",
    "\n",
    "H1: There is difference on amount spent on purchasing products between singles and Married"
   ]
  },
  {
   "cell_type": "code",
   "execution_count": 7,
   "metadata": {},
   "outputs": [
    {
     "name": "stdout",
     "output_type": "stream",
     "text": [
      "Test Statistic U1 is =  563156.5\n",
      "Test Statistic U2 is =  582585.5\n",
      "manwhitneyu p value is =  0.2531744435010702\n",
      "P-value is =  0.5063504962214381\n",
      "Z- Value is =  -0.6645310290084294\n",
      "Z-table value =  1.6448536269514722\n",
      " Test Value is greater than critical Value.\n",
      "-0.6645310290084294 > -1.6448536269514722 \n",
      "--->Failed to reject Null Hypothesis\n",
      "There is no difference on amount spent on purchasing products between singles and Married\n"
     ]
    }
   ],
   "source": [
    "# New data is original data with purchases\n",
    "new_data = df1\n",
    "import pandas as pd\n",
    "import numpy as np\n",
    "import scipy.stats as st\n",
    "data1 =df1.loc[df[\"Marital_Status\"]==\"Single\"]\n",
    "data2 =df1.loc[df[\"Marital_Status\"]==\"Married\"]\n",
    "\n",
    "# data1 = data of singles data2 = data of married persons\n",
    "singles=data1[\"MntTotal\"].tolist()\n",
    "Married=data2[\"MntTotal\"].tolist()\n",
    "\n",
    "# Performing Manwhittney U Test or Wilcoxon Rank Sum Test\n",
    "from scipy.stats import mannwhitneyu\n",
    "U1, p = mannwhitneyu(singles, Married)\n",
    "print(\"Test Statistic U1 is = \",U1)\n",
    "nx, ny = len(singles), len(Married)\n",
    "U2 = nx*ny - U1\n",
    "print(\"Test Statistic U2 is = \",U2)\n",
    "print(\"manwhitneyu p value is = \",p)\n",
    "\n",
    "import numpy as np\n",
    "from scipy.stats import norm\n",
    "U = min(U1, U2)\n",
    "N = nx + ny\n",
    "z = (U - nx*ny/2 + 0.5) / np.sqrt(nx*ny * (N + 1)/ 12)\n",
    "p = 2 * norm.cdf(z)  # use CDF to get p-value from smaller statistic\n",
    "print(\"P-value is = \", p)\n",
    "print(\"Z- Value is = \",z)\n",
    "\n",
    "\n",
    "alpha = 0.05\n",
    "z_alpha = st.norm.ppf(1-alpha)\n",
    "print(\"Z-table value = \",z_alpha)\n",
    "if z<0:\n",
    "    z_alpha = -z_alpha\n",
    "if(z<=z_alpha):\n",
    "    print(\" Test Value is less than critical Value.\")\n",
    "    print(z,\"<=\",z_alpha,\"\\n--->Null Hypothesis is Rejected\")\n",
    "    print(\"There is difference on amount spent on purchasing products between singles and Married\")\n",
    "elif(z>z_alpha):\n",
    "    print(\" Test Value is greater than critical Value.\")\n",
    "    print(z,\">\",z_alpha,\"\\n--->Failed to reject Null Hypothesis\")\n",
    "    print(\"There is no difference on amount spent on purchasing products between singles and Married\")\n"
   ]
  },
  {
   "cell_type": "markdown",
   "metadata": {},
   "source": [
    "# Conclusion"
   ]
  },
  {
   "cell_type": "markdown",
   "metadata": {},
   "source": [
    "There is no difference on amount spent on purchasing products between singles and Married."
   ]
  },
  {
   "cell_type": "markdown",
   "metadata": {},
   "source": [
    "# Wilcoxon Signed Rank Test"
   ]
  },
  {
   "cell_type": "markdown",
   "metadata": {},
   "source": [
    "Check whether the customer who purchases meat also purchases fish Non vegeteraian\n",
    "\n",
    "H0: There is no difference among customers purchasing fish and meat\n",
    "\n",
    "H1: There is difference among customers purchasing fish and meat"
   ]
  },
  {
   "cell_type": "code",
   "execution_count": 8,
   "metadata": {},
   "outputs": [
    {
     "name": "stdout",
     "output_type": "stream",
     "text": [
      "      Year_Birth   Education   Income  MntMeatProducts  MntFishProducts\n",
      "S.No                                                                   \n",
      "612         1963      Master  57288.0               21                0\n",
      "2118        1959  Graduation  24221.0                9                2\n",
      "1665        1969  Graduation  38361.0               56               20\n",
      "229         1952      Master  43776.0               71                3\n",
      "1043        1963  Graduation  80124.0              398              205\n",
      "2087        1950  Graduation  27203.0               21                4\n",
      "642         1954      Master  60033.0               57               19\n",
      "1914        1962  Graduation  76081.0              415               63\n",
      "1892        1965  Graduation  81168.0              592              147\n",
      "1091        1954  Graduation  64587.0               16                0\n",
      "1706        1954      Master  62637.0               48                4\n",
      "1924        1967      Master  30753.0               25                0\n",
      "1952        1985      Master  33812.0               19               30\n",
      "1980        1957  Graduation  78618.0              818              212\n",
      "1873        1964  Graduation  82224.0              360              138\n",
      "1559        1973  Graduation  67432.0              341              177\n",
      "994         1970  Graduation  76467.0              426              210\n",
      "59          1964  Graduation  60597.0              257               32\n",
      "1054        1972         PhD  59973.0              168               20\n",
      "256         1968  Graduation  75693.0              293               72\n",
      "1367        1986         PhD  82333.0              359               46\n",
      "1690        1973  Graduation  34853.0               15                2\n",
      "245         1976      Master  26907.0                7                0\n",
      "1807        1947         PhD  68117.0              215                0\n",
      "98          1980  Graduation  80011.0              536               82\n",
      "1049        1968  Graduation  19514.0               21                2\n",
      "1228        1967      Master  47821.0               16                6\n",
      "1780        1963  Graduation  49980.0               54               13\n",
      "10          1947      Master  81044.0              535               73\n",
      "1932        1959         PhD  38829.0                7                0\n",
      "Test statistic value is =  5.0 \n",
      " P-Value is =  2.8716584471854804e-06\n",
      "Interfer the result or Give critical value for n=30 at alpha =0.05 from the table\n",
      "136\n",
      " Test Value is less than critical Value.\n",
      "5.0 <= 136 \n",
      "--->Null Hypothesis is Rejected\n",
      "There is difference among customers purchasing fish and meat\n"
     ]
    }
   ],
   "source": [
    "wilcox_Sample = df1.sample(n=30,replace=False)\n",
    "columns =['Year_Birth', 'Education', 'Income','MntMeatProducts', 'MntFishProducts']\n",
    "print(wilcox_Sample[columns])\n",
    "meat = wilcox_Sample['MntMeatProducts'].tolist()\n",
    "fish = wilcox_Sample['MntFishProducts'].tolist()\n",
    "import numpy as np\n",
    "from scipy.stats import wilcoxon\n",
    "w1, p1= wilcoxon(meat,fish,alternative='two-sided')\n",
    "print(\"Test statistic value is = \",w1,\"\\n P-Value is = \", p1)\n",
    "print(\"Interfer the result or Give critical value for n=30 at alpha =0.05 from the table\")\n",
    "z=int(input())\n",
    "\n",
    "if(w1<=z):\n",
    "    print(\" Test Value is less than critical Value.\")\n",
    "    print(w1,\"<=\",z,\"\\n--->Null Hypothesis is Rejected\")\n",
    "    print(\"There is difference among customers purchasing fish and meat\")\n",
    "elif(w1>z):\n",
    "    print(\" Test Value is greater than critical Value.\")\n",
    "    print(w1,\">\",z,\"\\n--->Failed to reject Null Hypothesis\")\n",
    "    print(\"There is no difference among customers purchasing fish and meat\")\n",
    "\n",
    "#length =len(before)\n",
    "#w2 = (n*(n+1)/2)-w1\n",
    "#w = min(w1,w2)\n",
    "#z= (w - ( n*(n+1)/4 )) /np.sqrt(n*(n+1)*(2*n+1)/24) \n",
    "#print(z)"
   ]
  },
  {
   "cell_type": "code",
   "execution_count": 10,
   "metadata": {},
   "outputs": [],
   "source": [
    "new_data.to_csv(\"Company_Data.csv\")"
   ]
  }
 ],
 "metadata": {
  "kernelspec": {
   "display_name": "Python 3",
   "language": "python",
   "name": "python3"
  },
  "language_info": {
   "codemirror_mode": {
    "name": "ipython",
    "version": 3
   },
   "file_extension": ".py",
   "mimetype": "text/x-python",
   "name": "python",
   "nbconvert_exporter": "python",
   "pygments_lexer": "ipython3",
   "version": "3.7.4"
  }
 },
 "nbformat": 4,
 "nbformat_minor": 2
}
