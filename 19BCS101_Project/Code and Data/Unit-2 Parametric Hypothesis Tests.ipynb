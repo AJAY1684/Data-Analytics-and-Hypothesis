{
 "cells": [
  {
   "cell_type": "markdown",
   "metadata": {},
   "source": [
    "# PARAMETRIC HYPOTHESIS TESTS"
   ]
  },
  {
   "cell_type": "code",
   "execution_count": 1,
   "metadata": {},
   "outputs": [],
   "source": [
    "import pandas as pd\n",
    "import numpy as np\n",
    "from datetime import date\n",
    "import matplotlib.pyplot as plt\n",
    "import seaborn as sns\n",
    "\n",
    "data = pd.read_csv(\"Company_Data.csv\",index_col=0)"
   ]
  },
  {
   "cell_type": "markdown",
   "metadata": {},
   "source": [
    "# One SAMPLE T-TEST"
   ]
  },
  {
   "cell_type": "markdown",
   "metadata": {},
   "source": [
    "#The average age of Company customers is 52 at alpha = 0.05."
   ]
  },
  {
   "cell_type": "code",
   "execution_count": 45,
   "metadata": {},
   "outputs": [
    {
     "name": "stdout",
     "output_type": "stream",
     "text": [
      "Avg age in a sample is =  50.13793103448276\n",
      "Statistic test value is =  -0.9465015739114689\n",
      "P-value is =  0.3519901616647836\n",
      " The Average age of customers is not equal to 52 \n"
     ]
    }
   ],
   "source": [
    "Sample = data.sample(n=29,replace=False) \n",
    "x = 52\n",
    "alpha = 0.05\n",
    "H0 = \" The average age of Customers is 52.\"\n",
    "H1 = \" The Average age of customers is not equal to 52 \"\n",
    "sample_mean = Sample[\"Age\"]\n",
    "print(\"Avg age in a sample is = \",Sample[\"Age\"].mean())\n",
    "from scipy import stats\n",
    "t,p = stats.ttest_1samp(sample_mean,x)\n",
    "\n",
    "print(\"Statistic test value is = \",t)\n",
    "print(\"P-value is = \",p)\n",
    "\n",
    "if p<alpha:\n",
    "    print(H0)\n",
    "else:\n",
    "    print(H1)"
   ]
  },
  {
   "cell_type": "code",
   "execution_count": null,
   "metadata": {},
   "outputs": [],
   "source": []
  },
  {
   "cell_type": "markdown",
   "metadata": {},
   "source": [
    "# INDEPENDENT TWO-SAMPLE T-TEST"
   ]
  },
  {
   "cell_type": "markdown",
   "metadata": {},
   "source": [
    "Q) Does the product type hinders the purchasing of products between individuals?"
   ]
  },
  {
   "cell_type": "code",
   "execution_count": 36,
   "metadata": {},
   "outputs": [
    {
     "name": "stdout",
     "output_type": "stream",
     "text": [
      "     a    Sq1    b     Sq2\n",
      "0    0      0  413  170569\n",
      "1   56   3136   19     361\n",
      "2    3      9   44    1936\n",
      "3   50   2500    6      36\n",
      "4    2      4   15     225\n",
      "5    0      0  134   17956\n",
      "6    2      4  104   10816\n",
      "7   94   8836   40    1600\n",
      "8   42   1764   57    3249\n",
      "9  110  12100  170   28900\n",
      "Total:  359   28353   1002   235648 \n",
      "\n",
      " Sample-1 test value S1-square is  1718.3222222222223\n",
      " Sample-2 test value S2-square is  15027.511111111111\n",
      "dof is =  18\n",
      "\n",
      " Sp =  40.92167314924126\n",
      "Test Statistic Value is =  33.45141976637732\n",
      "\n",
      " -CONCLUSION :\n",
      "μ1 > μ2 Mean Amount spent on FISH products is less than or equal to MEAT.\n"
     ]
    }
   ],
   "source": [
    "df1 =data.loc[data[\"Marital_Status\"]==\"Single\"]  # Population-1\n",
    "df2 =data.loc[data[\"Marital_Status\"]==\"Married\"]  #Population-2\n",
    "Sample1 = df1.sample(n=10,replace=False)     # Sample data of size < 30 for 2 sample,T-tests so 10 is taken\n",
    "Sample2 = df2.sample(n=10,replace=False) \n",
    "def Independent_TT_test(a,b):\n",
    "    \n",
    "    Sq1 =a**2      #Square of a\n",
    "    T1 = Sq1.sum()     #Total Sum of Square a\n",
    "    Sq2 = b**2     #Square of b\n",
    "    T2 = Sq2.sum()     #Total Sum of Square b\n",
    "    \n",
    "    S1 = a.sum()  # Total Sum of elements in a\n",
    "    S2 = b.sum()  # Total Sum of elements in b\n",
    "    \n",
    "    X1 = a.mean()  #Mean of a\n",
    "    X2 = b.mean()  #Mean of b\n",
    "    n1 = len(a)    #Size of a\n",
    "    n2 = len(b)    #Size of b\n",
    "    dof = (n1-1) + (n2-1)\n",
    "    \n",
    "    num1 =(n1*T1)-(S1**2)  #Test statistic for sample-1\n",
    "    den1 = n1*(n1-1)\n",
    "    St1 =num1/den1\n",
    "    \n",
    "    num2 =(n2*T2)-(S2**2) #Test Statistic for sample-2\n",
    "    den2 = n2*(n2-1)\n",
    "    St2 =num2/den2\n",
    "    \n",
    "    num3 =  ((n1-1)*St1) + ((n2-1)*St2) # Test Statistic value calculation\n",
    "    den3 = (n1-1)+(n2-1)\n",
    "    Sp2 = num3/den3\n",
    "    n = (1/n1) + (1/n2)\n",
    "    Sp = np.sqrt(Sp2) *np.sqrt(n)\n",
    "    t = X1-X2/Sp\n",
    "    #Converting series to list to prepare dataframe\n",
    "    a = a.tolist()\n",
    "    Sq1 = Sq1.tolist()\n",
    "    b = b.tolist()\n",
    "    Sq2 =Sq2.tolist()\n",
    "    data = {'a':a, 'Sq1':Sq1, 'b':b, 'Sq2':Sq2 }\n",
    "    df = pd.DataFrame(data)\n",
    "    print(df)\n",
    "    print(\"Total: \", S1,\" \",T1,\" \",S2,\" \",T2,\"\\n\")\n",
    "    print(\" Sample-1 test value S1-square is \",St1)\n",
    "    print(\" Sample-2 test value S2-square is \",St2)\n",
    "    print(\"dof is = \",dof)\n",
    "    return Sp,t;\n",
    "    \n",
    "    \n",
    "\n",
    "if __name__ == \"__main__\":\n",
    "    \n",
    "    Sweets = Sample1['MntFishProducts'] # Sample-1\n",
    "    Fruits = Sample2['MntMeatProducts']        #Sample-2\n",
    "    \n",
    "    H0 = \"μ1 > μ2 Mean Amount spent on FISH products is less than or equal to MEAT.\" \n",
    "    H1 = \"μ1 <= μ2 Mean Amount spent on Fish products is greater than or equal to MEAT.\"\n",
    "    \n",
    "\n",
    "    Sp,t = Independent_TT_test(Sweets,Fruits)\n",
    "    t_critical = 1.7341   # At n=18 1 Tail alpha =0.05\n",
    "    print(\"\\n Sp = \",Sp)\n",
    "    print(\"Test Statistic Value is = \",t)\n",
    "    if(t<=0):\n",
    "        t =-t\n",
    "    print(\"\\n -CONCLUSION :\")\n",
    "    if(t>t_critical):\n",
    "        print(H0)\n",
    "    else:\n",
    "        print(H1)\n"
   ]
  },
  {
   "cell_type": "code",
   "execution_count": null,
   "metadata": {},
   "outputs": [],
   "source": []
  },
  {
   "cell_type": "markdown",
   "metadata": {},
   "source": [
    "# Dependent Two Sample T-TEST"
   ]
  },
  {
   "cell_type": "code",
   "execution_count": null,
   "metadata": {},
   "outputs": [],
   "source": [
    "The Vegeterian people are Spending equal amount on Sweet and Fruits which are contibuting more for total purchases.\n",
    "Does the amount spent on Fruits and Sweets are dependent."
   ]
  },
  {
   "cell_type": "code",
   "execution_count": 37,
   "metadata": {},
   "outputs": [
    {
     "name": "stdout",
     "output_type": "stream",
     "text": [
      "\n",
      " Sp =  40.92167314924126\n",
      "Test Statistic Value is =  -0.24801785651577193\n",
      "\n",
      " -CONCLUSION :\n",
      "μD != 0 There is difference in Amount spent on Sweet products and Fuits.\n"
     ]
    }
   ],
   "source": [
    "Sample = data.sample(n=25,replace=False)\n",
    "\n",
    "def Dependent_TT_test(a,b,mu):\n",
    "    d=a-b\n",
    "    D = d**2\n",
    "    Td = d.sum()\n",
    "    TD = D.sum()\n",
    "    n=len(a)\n",
    "    D_avg = Td/n\n",
    "    \n",
    "    num = (n*TD) - (Td**2)\n",
    "    den =n*(n-1)\n",
    "    Sd = np.sqrt(num/den)\n",
    "    Sd_avg = Sd / np.sqrt(n)\n",
    "    t = (D_avg - mu)/ Sd_avg\n",
    "    \n",
    "    return Sd,t\n",
    "    \n",
    "\n",
    "if __name__ == \"__main__\":\n",
    "    \n",
    "    Sweets = Sample['MntSweetProducts'] # Sample-1\n",
    "    Fruits = Sample['MntFruits']        #Sample-2\n",
    "    \n",
    "    H0 = \"μD = 0 No differnece in Amount spent on Sweet products and Fuits.\"\n",
    "    H1 = \"μD != 0 There is difference in Amount spent on Sweet products and Fuits.\"\n",
    "    Mu_hyp = 0\n",
    "    Sd,t = Dependent_TT_test(Sweets,Fruits,Mu_hyp)\n",
    "    \n",
    "    t_critical = 1.7341   # At n=18 1 Tail alpha =0.05\n",
    "    print(\"\\n Sp = \",Sp)\n",
    "    print(\"Test Statistic Value is = \",t)\n",
    "    \n",
    "    print(\"\\n -CONCLUSION :\")\n",
    "    if(t<=0):\n",
    "        t =-t\n",
    "    if(t>t_critical):\n",
    "        print(H0)\n",
    "    else:\n",
    "        print(H1)\n"
   ]
  },
  {
   "cell_type": "code",
   "execution_count": null,
   "metadata": {},
   "outputs": [],
   "source": []
  },
  {
   "cell_type": "code",
   "execution_count": null,
   "metadata": {},
   "outputs": [],
   "source": []
  },
  {
   "cell_type": "code",
   "execution_count": 16,
   "metadata": {},
   "outputs": [
    {
     "data": {
      "text/html": [
       "<div>\n",
       "<style scoped>\n",
       "    .dataframe tbody tr th:only-of-type {\n",
       "        vertical-align: middle;\n",
       "    }\n",
       "\n",
       "    .dataframe tbody tr th {\n",
       "        vertical-align: top;\n",
       "    }\n",
       "\n",
       "    .dataframe thead th {\n",
       "        text-align: right;\n",
       "    }\n",
       "</style>\n",
       "<table border=\"1\" class=\"dataframe\">\n",
       "  <thead>\n",
       "    <tr style=\"text-align: right;\">\n",
       "      <th></th>\n",
       "      <th>MntWines</th>\n",
       "      <th>MntFruits</th>\n",
       "      <th>MntMeatProducts</th>\n",
       "      <th>MntFishProducts</th>\n",
       "      <th>MntSweetProducts</th>\n",
       "      <th>MntGoldProds</th>\n",
       "      <th>Purchases</th>\n",
       "    </tr>\n",
       "  </thead>\n",
       "  <tbody>\n",
       "    <tr>\n",
       "      <td>count</td>\n",
       "      <td>2237.000000</td>\n",
       "      <td>2237.000000</td>\n",
       "      <td>2237.000000</td>\n",
       "      <td>2237.000000</td>\n",
       "      <td>2237.000000</td>\n",
       "      <td>2237.000000</td>\n",
       "      <td>2237.000000</td>\n",
       "    </tr>\n",
       "    <tr>\n",
       "      <td>mean</td>\n",
       "      <td>303.995530</td>\n",
       "      <td>26.270451</td>\n",
       "      <td>166.916853</td>\n",
       "      <td>37.523022</td>\n",
       "      <td>27.068842</td>\n",
       "      <td>43.968708</td>\n",
       "      <td>14.870809</td>\n",
       "    </tr>\n",
       "    <tr>\n",
       "      <td>std</td>\n",
       "      <td>336.574382</td>\n",
       "      <td>39.715972</td>\n",
       "      <td>225.661158</td>\n",
       "      <td>54.639909</td>\n",
       "      <td>41.293949</td>\n",
       "      <td>52.054318</td>\n",
       "      <td>7.676593</td>\n",
       "    </tr>\n",
       "    <tr>\n",
       "      <td>min</td>\n",
       "      <td>0.000000</td>\n",
       "      <td>0.000000</td>\n",
       "      <td>0.000000</td>\n",
       "      <td>0.000000</td>\n",
       "      <td>0.000000</td>\n",
       "      <td>0.000000</td>\n",
       "      <td>0.000000</td>\n",
       "    </tr>\n",
       "    <tr>\n",
       "      <td>25%</td>\n",
       "      <td>24.000000</td>\n",
       "      <td>1.000000</td>\n",
       "      <td>16.000000</td>\n",
       "      <td>3.000000</td>\n",
       "      <td>1.000000</td>\n",
       "      <td>9.000000</td>\n",
       "      <td>8.000000</td>\n",
       "    </tr>\n",
       "    <tr>\n",
       "      <td>50%</td>\n",
       "      <td>174.000000</td>\n",
       "      <td>8.000000</td>\n",
       "      <td>67.000000</td>\n",
       "      <td>12.000000</td>\n",
       "      <td>8.000000</td>\n",
       "      <td>24.000000</td>\n",
       "      <td>15.000000</td>\n",
       "    </tr>\n",
       "    <tr>\n",
       "      <td>75%</td>\n",
       "      <td>504.000000</td>\n",
       "      <td>33.000000</td>\n",
       "      <td>232.000000</td>\n",
       "      <td>50.000000</td>\n",
       "      <td>33.000000</td>\n",
       "      <td>56.000000</td>\n",
       "      <td>21.000000</td>\n",
       "    </tr>\n",
       "    <tr>\n",
       "      <td>max</td>\n",
       "      <td>1493.000000</td>\n",
       "      <td>199.000000</td>\n",
       "      <td>1725.000000</td>\n",
       "      <td>259.000000</td>\n",
       "      <td>263.000000</td>\n",
       "      <td>362.000000</td>\n",
       "      <td>44.000000</td>\n",
       "    </tr>\n",
       "  </tbody>\n",
       "</table>\n",
       "</div>"
      ],
      "text/plain": [
       "          MntWines    MntFruits  MntMeatProducts  MntFishProducts  \\\n",
       "count  2237.000000  2237.000000      2237.000000      2237.000000   \n",
       "mean    303.995530    26.270451       166.916853        37.523022   \n",
       "std     336.574382    39.715972       225.661158        54.639909   \n",
       "min       0.000000     0.000000         0.000000         0.000000   \n",
       "25%      24.000000     1.000000        16.000000         3.000000   \n",
       "50%     174.000000     8.000000        67.000000        12.000000   \n",
       "75%     504.000000    33.000000       232.000000        50.000000   \n",
       "max    1493.000000   199.000000      1725.000000       259.000000   \n",
       "\n",
       "       MntSweetProducts  MntGoldProds    Purchases  \n",
       "count       2237.000000   2237.000000  2237.000000  \n",
       "mean          27.068842     43.968708    14.870809  \n",
       "std           41.293949     52.054318     7.676593  \n",
       "min            0.000000      0.000000     0.000000  \n",
       "25%            1.000000      9.000000     8.000000  \n",
       "50%            8.000000     24.000000    15.000000  \n",
       "75%           33.000000     56.000000    21.000000  \n",
       "max          263.000000    362.000000    44.000000  "
      ]
     },
     "execution_count": 16,
     "metadata": {},
     "output_type": "execute_result"
    }
   ],
   "source": [
    "lst =['MntWines', 'MntFruits','MntMeatProducts', 'MntFishProducts', 'MntSweetProducts','MntGoldProds','Purchases']\n",
    "data[lst].describe()"
   ]
  },
  {
   "cell_type": "code",
   "execution_count": null,
   "metadata": {},
   "outputs": [],
   "source": []
  },
  {
   "cell_type": "markdown",
   "metadata": {},
   "source": [
    "# ONE SAMPLE Z-TEST"
   ]
  },
  {
   "cell_type": "code",
   "execution_count": null,
   "metadata": {},
   "outputs": [],
   "source": [
    "# Avg number of web purchases is greater than 3."
   ]
  },
  {
   "cell_type": "code",
   "execution_count": 82,
   "metadata": {},
   "outputs": [
    {
     "name": "stdout",
     "output_type": "stream",
     "text": [
      "Z-Value is =  18.4999262909087\n",
      "Reject  μ <= 3 Average number of web purchases is LESS than or equal to 3.\n"
     ]
    }
   ],
   "source": [
    "#Hypothesis\n",
    "H0 = \"μ <= 3 Average number of web purchases is LESS than or equal to 3.\"\n",
    "H1 = \"μ > 3 Average number of web purchases is GREATER than or equal to 3.\"\n",
    "\n",
    "# Data values\n",
    "z_critic = 1.645 # AT alpha =0.05 One tailed test\n",
    "mu = 3\n",
    "std  = data['NumWebPurchases'].std()    #Standard deviation of sample \n",
    "X =data['NumWebPurchases'].mean()       # Sample Mean\n",
    "n = len(data['NumWebPurchases'])\n",
    "\n",
    "#Calculation\n",
    "standard_error = std/np.sqrt(n)\n",
    "z = (X-mu)/standard_error\n",
    "print(\"Z-Value is = \",z)\n",
    "\n",
    "if(z<0):\n",
    "    z=-z\n",
    "if(z<z_critic):\n",
    "    print(H0)\n",
    "elif(z>z_critic):\n",
    "    print(\"Reject \", H0)"
   ]
  },
  {
   "cell_type": "code",
   "execution_count": null,
   "metadata": {},
   "outputs": [],
   "source": []
  },
  {
   "cell_type": "markdown",
   "metadata": {},
   "source": [
    "# TWO SAMPLE Z TEST"
   ]
  },
  {
   "cell_type": "markdown",
   "metadata": {},
   "source": [
    "#Average amount spent on wines is greater for Singles than Married."
   ]
  },
  {
   "cell_type": "code",
   "execution_count": 83,
   "metadata": {},
   "outputs": [
    {
     "name": "stdout",
     "output_type": "stream",
     "text": [
      "Z-Value is =  0.35559057941777744\n",
      "14.882854294937603\n",
      "μ1 <= μ2 Average amount spent on wines is less than Average Amount spent on Gold.\n"
     ]
    }
   ],
   "source": [
    "# SAMPLES\n",
    "df1 = data.loc[data[\"Marital_Status\"]==\"Single\"]   # Sample-1\n",
    "df2 = data.loc[data[\"Marital_Status\"]==\"Married\"]  #Sample-2\n",
    "\n",
    "#Hypothesis\n",
    "H0 = \"μ1 <= μ2 Average amount spent on wines is less than Average Amount spent on Gold.\"\n",
    "H1 = \"μ1 > μ2 Average amount spent on wines is greater than Average Amount spent on Gold.\"  #(Claim)\n",
    "\n",
    "# Data values\n",
    "z_critic = 1.645 # AT alpha =0.05 One tailed test\n",
    "\n",
    "# mu1 - mu2 = 0\n",
    "\n",
    "x1 = df1['MntWines'].mean()    #Sample Mean\n",
    "x2 = df2['MntWines'].mean()\n",
    "std1 = df1['MntWines'].std()   #Standard Deviations\n",
    "std2 = df2['MntWines'].std() \n",
    "n1 = len(df1['MntWines'])\n",
    "n2 = len(df2['MntWines'])\n",
    "e1 =(std1**2)/n1               #error\n",
    "e2 =(std2**2)/n2\n",
    "\n",
    "#CALCULATION\n",
    "standard_error =np.sqrt(e1+e2)\n",
    "z = (x1-x2)/standard_error\n",
    "print(\"Z-Value is = \",z)\n",
    "\n",
    "if(z<0):\n",
    "    z=-z\n",
    "if(z<z_critic):\n",
    "    print(H0)\n",
    "elif(z>z_critic):\n",
    "    print(\"Reject \", H0)\n"
   ]
  },
  {
   "cell_type": "code",
   "execution_count": null,
   "metadata": {},
   "outputs": [],
   "source": []
  },
  {
   "cell_type": "markdown",
   "metadata": {},
   "source": [
    "# One Sample Z-TEST for Proportions"
   ]
  },
  {
   "cell_type": "markdown",
   "metadata": {},
   "source": [
    "#There are 20% of customers who accepted the offer atleast once.Checking if it is true"
   ]
  },
  {
   "cell_type": "code",
   "execution_count": 126,
   "metadata": {},
   "outputs": [
    {
     "name": "stdout",
     "output_type": "stream",
     "text": [
      "Z-Value is =  0.771720207508393\n",
      "p = 0.2 There are 20% of customers who accepted the offer atleast once\n"
     ]
    }
   ],
   "source": [
    "df =data\n",
    "df[\"NumAccepted\"] = df['AcceptedCmp1']+df['AcceptedCmp2']+df['AcceptedCmp3']+df['AcceptedCmp4']+df['AcceptedCmp5'] #Number of times accepted offer\n",
    "df[\"Accepted\"] = np.where( df[\"NumAccepted\"]>0,1,0)   #Accepted atleast 1 offer after all campaigns\n",
    "\n",
    "# Hypothesis\n",
    "H0 = \"p = 0.2 There are 20% of customers who accepted the offer atleast once\"\n",
    "H1 = \"p != 0.2 The customers who accepted the offer atleast once is not equal to 0.2.\"\n",
    "\n",
    "# Data values\n",
    "z_critic = 1.645 # AT alpha =0.05 One tailed test\n",
    "\n",
    "p=0.2\n",
    "q=1-p\n",
    "x = len(df.loc[df[\"Accepted\"]==1])\n",
    "n = len(df)\n",
    "proportion = x/n\n",
    "z = (proportion-p)/np.sqrt((p*q)/n)\n",
    "print(\"Z-Value is = \",z)\n",
    "if(z<0):\n",
    "    z=-z\n",
    "if(z<z_critic):\n",
    "    print(H0)\n",
    "elif(z>z_critic):\n",
    "    print(\"Reject \", H0)\n",
    "\n"
   ]
  },
  {
   "cell_type": "code",
   "execution_count": null,
   "metadata": {},
   "outputs": [],
   "source": []
  },
  {
   "cell_type": "markdown",
   "metadata": {},
   "source": [
    "# Two Sample Z-TEST for Proportions"
   ]
  },
  {
   "cell_type": "markdown",
   "metadata": {},
   "source": [
    "#There is difference in proportions of accepting Campaign offers between singles and married"
   ]
  },
  {
   "cell_type": "code",
   "execution_count": 130,
   "metadata": {},
   "outputs": [
    {
     "name": "stdout",
     "output_type": "stream",
     "text": [
      "Z-Value is =  -5.661516235110674\n",
      "\n",
      " -----> CONCLUSION :\n",
      "\n",
      "P1-P2 != 0 There is difference in proportions of accepting Campaign offers between singles and married\n"
     ]
    }
   ],
   "source": [
    "H0 = \"P1-P2 = 0 There is no difference in proportions of accepting Campaign offers between singles and married\"\n",
    "H1 = \"P1-P2 != 0 There is difference in proportions of accepting Campaign offers between singles and married\"\n",
    "df =data\n",
    "df[\"NumAccepted\"] = df['AcceptedCmp1']+df['AcceptedCmp2']+df['AcceptedCmp3']+df['AcceptedCmp4']+df['AcceptedCmp5'] #Number of times accepted offer\n",
    "df[\"Accepted\"] = np.where( df[\"NumAccepted\"]>0,1,0)   #Accepted atleast 1 offer after all campaigns\n",
    "\n",
    "# Population-1\n",
    "df1 =df.loc[data[\"Marital_Status\"]==\"Single\"]  \n",
    "n1 = len(df1)          #Number of singles\n",
    "x1 = len(df1.loc[df1[\"Accepted\"]==1])          #Number of singles who accepted offer\n",
    "p1 =x1/n1  # Proportion-1\n",
    "\n",
    "#Population-2\n",
    "df2 =df.loc[data[\"Marital_Status\"]==\"Married\"] \n",
    "n2 = len(df2)            #Number of Married Customers\n",
    "x2 = len(df.loc[df[\"Accepted\"]==1])        #Number of Married Customers who accepted offer\n",
    "p2=x2/n2  #Proportion-2\n",
    "\n",
    "p =(x1+x2)/(n1+n2)\n",
    "q =1-p\n",
    "\n",
    "# p1 ^-p2^ = 0\n",
    "\n",
    "den = (p*q)*(1/n1 + 1/n2)\n",
    "z = (p1-p2)/np.sqrt(den)\n",
    "z_critical = 1.960    # AT alpha =0.05 Two tailed test\n",
    "print(\"Z-Value is = \",z)\n",
    "if(z<0):\n",
    "    z=-z\n",
    "\n",
    "print(\"\\n -----> CONCLUSION :\\n\")    \n",
    "if(z<z_critic):\n",
    "    print(H0)\n",
    "elif(z>z_critic):\n",
    "    print(H1)\n"
   ]
  },
  {
   "cell_type": "code",
   "execution_count": null,
   "metadata": {},
   "outputs": [],
   "source": []
  },
  {
   "cell_type": "code",
   "execution_count": null,
   "metadata": {},
   "outputs": [],
   "source": []
  }
 ],
 "metadata": {
  "kernelspec": {
   "display_name": "Python 3",
   "language": "python",
   "name": "python3"
  },
  "language_info": {
   "codemirror_mode": {
    "name": "ipython",
    "version": 3
   },
   "file_extension": ".py",
   "mimetype": "text/x-python",
   "name": "python",
   "nbconvert_exporter": "python",
   "pygments_lexer": "ipython3",
   "version": "3.7.4"
  }
 },
 "nbformat": 4,
 "nbformat_minor": 2
}
